{
  "nbformat": 4,
  "nbformat_minor": 0,
  "metadata": {
    "colab": {
      "provenance": [],
      "gpuType": "T4"
    },
    "kernelspec": {
      "name": "python3",
      "display_name": "Python 3"
    },
    "language_info": {
      "name": "python"
    },
    "accelerator": "GPU"

  },
  "cells": [
    {
      "cell_type": "code",
      "source": [
        " pip install -U \"huggingface_hub[cli]\" datasets"
      ],
      "metadata": {
        "colab": {
          "base_uri": "https://localhost:8080/"
        },
        "id": "xWkLbGgXlOTg",
        "outputId": "65943cf7-9bde-4d38-ab31-70afc9e8adc8"
      },
      "execution_count": 1,
      "outputs": [
        {
          "output_type": "stream",
          "name": "stdout",
          "text": [
            "Requirement already satisfied: datasets in /usr/local/lib/python3.11/dist-packages (2.14.4)\n",
            "Collecting datasets\n",
            "  Downloading datasets-3.6.0-py3-none-any.whl.metadata (19 kB)\n",
            "Requirement already satisfied: huggingface_hub[cli] in /usr/local/lib/python3.11/dist-packages (0.33.0)\n",
            "Collecting huggingface_hub[cli]\n",
            "  Downloading huggingface_hub-0.33.1-py3-none-any.whl.metadata (14 kB)\n",
            "Requirement already satisfied: filelock in /usr/local/lib/python3.11/dist-packages (from huggingface_hub[cli]) (3.18.0)\n",
            "Requirement already satisfied: fsspec>=2023.5.0 in /usr/local/lib/python3.11/dist-packages (from huggingface_hub[cli]) (2025.3.2)\n",
            "Requirement already satisfied: packaging>=20.9 in /usr/local/lib/python3.11/dist-packages (from huggingface_hub[cli]) (24.2)\n",
            "Requirement already satisfied: pyyaml>=5.1 in /usr/local/lib/python3.11/dist-packages (from huggingface_hub[cli]) (6.0.2)\n",
            "Requirement already satisfied: requests in /usr/local/lib/python3.11/dist-packages (from huggingface_hub[cli]) (2.32.3)\n",
            "Requirement already satisfied: tqdm>=4.42.1 in /usr/local/lib/python3.11/dist-packages (from huggingface_hub[cli]) (4.67.1)\n",
            "Requirement already satisfied: typing-extensions>=3.7.4.3 in /usr/local/lib/python3.11/dist-packages (from huggingface_hub[cli]) (4.14.0)\n",
            "Requirement already satisfied: hf-xet<2.0.0,>=1.1.2 in /usr/local/lib/python3.11/dist-packages (from huggingface_hub[cli]) (1.1.5)\n",
            "Collecting InquirerPy==0.3.4 (from huggingface_hub[cli])\n",
            "  Downloading InquirerPy-0.3.4-py3-none-any.whl.metadata (8.1 kB)\n",
            "Collecting pfzy<0.4.0,>=0.3.1 (from InquirerPy==0.3.4->huggingface_hub[cli])\n",
            "  Downloading pfzy-0.3.4-py3-none-any.whl.metadata (4.9 kB)\n",
            "Requirement already satisfied: prompt-toolkit<4.0.0,>=3.0.1 in /usr/local/lib/python3.11/dist-packages (from InquirerPy==0.3.4->huggingface_hub[cli]) (3.0.51)\n",
            "Requirement already satisfied: numpy>=1.17 in /usr/local/lib/python3.11/dist-packages (from datasets) (2.0.2)\n",
            "Requirement already satisfied: pyarrow>=15.0.0 in /usr/local/lib/python3.11/dist-packages (from datasets) (18.1.0)\n",
            "Requirement already satisfied: dill<0.3.9,>=0.3.0 in /usr/local/lib/python3.11/dist-packages (from datasets) (0.3.7)\n",
            "Requirement already satisfied: pandas in /usr/local/lib/python3.11/dist-packages (from datasets) (2.2.2)\n",
            "Requirement already satisfied: xxhash in /usr/local/lib/python3.11/dist-packages (from datasets) (3.5.0)\n",
            "Requirement already satisfied: multiprocess<0.70.17 in /usr/local/lib/python3.11/dist-packages (from datasets) (0.70.15)\n",
            "Collecting fsspec>=2023.5.0 (from huggingface_hub[cli])\n",
            "  Downloading fsspec-2025.3.0-py3-none-any.whl.metadata (11 kB)\n",
            "Requirement already satisfied: aiohttp!=4.0.0a0,!=4.0.0a1 in /usr/local/lib/python3.11/dist-packages (from fsspec[http]<=2025.3.0,>=2023.1.0->datasets) (3.11.15)\n",
            "Requirement already satisfied: charset-normalizer<4,>=2 in /usr/local/lib/python3.11/dist-packages (from requests->huggingface_hub[cli]) (3.4.2)\n",
            "Requirement already satisfied: idna<4,>=2.5 in /usr/local/lib/python3.11/dist-packages (from requests->huggingface_hub[cli]) (3.10)\n",
            "Requirement already satisfied: urllib3<3,>=1.21.1 in /usr/local/lib/python3.11/dist-packages (from requests->huggingface_hub[cli]) (2.4.0)\n",
            "Requirement already satisfied: certifi>=2017.4.17 in /usr/local/lib/python3.11/dist-packages (from requests->huggingface_hub[cli]) (2025.6.15)\n",
            "Requirement already satisfied: python-dateutil>=2.8.2 in /usr/local/lib/python3.11/dist-packages (from pandas->datasets) (2.9.0.post0)\n",
            "Requirement already satisfied: pytz>=2020.1 in /usr/local/lib/python3.11/dist-packages (from pandas->datasets) (2025.2)\n",
            "Requirement already satisfied: tzdata>=2022.7 in /usr/local/lib/python3.11/dist-packages (from pandas->datasets) (2025.2)\n",
            "Requirement already satisfied: aiohappyeyeballs>=2.3.0 in /usr/local/lib/python3.11/dist-packages (from aiohttp!=4.0.0a0,!=4.0.0a1->fsspec[http]<=2025.3.0,>=2023.1.0->datasets) (2.6.1)\n",
            "Requirement already satisfied: aiosignal>=1.1.2 in /usr/local/lib/python3.11/dist-packages (from aiohttp!=4.0.0a0,!=4.0.0a1->fsspec[http]<=2025.3.0,>=2023.1.0->datasets) (1.3.2)\n",
            "Requirement already satisfied: attrs>=17.3.0 in /usr/local/lib/python3.11/dist-packages (from aiohttp!=4.0.0a0,!=4.0.0a1->fsspec[http]<=2025.3.0,>=2023.1.0->datasets) (25.3.0)\n",
            "Requirement already satisfied: frozenlist>=1.1.1 in /usr/local/lib/python3.11/dist-packages (from aiohttp!=4.0.0a0,!=4.0.0a1->fsspec[http]<=2025.3.0,>=2023.1.0->datasets) (1.7.0)\n",
            "Requirement already satisfied: multidict<7.0,>=4.5 in /usr/local/lib/python3.11/dist-packages (from aiohttp!=4.0.0a0,!=4.0.0a1->fsspec[http]<=2025.3.0,>=2023.1.0->datasets) (6.4.4)\n",
            "Requirement already satisfied: propcache>=0.2.0 in /usr/local/lib/python3.11/dist-packages (from aiohttp!=4.0.0a0,!=4.0.0a1->fsspec[http]<=2025.3.0,>=2023.1.0->datasets) (0.3.2)\n",
            "Requirement already satisfied: yarl<2.0,>=1.17.0 in /usr/local/lib/python3.11/dist-packages (from aiohttp!=4.0.0a0,!=4.0.0a1->fsspec[http]<=2025.3.0,>=2023.1.0->datasets) (1.20.1)\n",
            "Requirement already satisfied: wcwidth in /usr/local/lib/python3.11/dist-packages (from prompt-toolkit<4.0.0,>=3.0.1->InquirerPy==0.3.4->huggingface_hub[cli]) (0.2.13)\n",
            "Requirement already satisfied: six>=1.5 in /usr/local/lib/python3.11/dist-packages (from python-dateutil>=2.8.2->pandas->datasets) (1.17.0)\n",
            "Downloading InquirerPy-0.3.4-py3-none-any.whl (67 kB)\n",
            "\u001b[2K   \u001b[90m━━━━━━━━━━━━━━━━━━━━━━━━━━━━━━━━━━━━━━━━\u001b[0m \u001b[32m67.7/67.7 kB\u001b[0m \u001b[31m3.7 MB/s\u001b[0m eta \u001b[36m0:00:00\u001b[0m\n",
            "\u001b[?25hDownloading datasets-3.6.0-py3-none-any.whl (491 kB)\n",
            "\u001b[2K   \u001b[90m━━━━━━━━━━━━━━━━━━━━━━━━━━━━━━━━━━━━━━━━\u001b[0m \u001b[32m491.5/491.5 kB\u001b[0m \u001b[31m14.4 MB/s\u001b[0m eta \u001b[36m0:00:00\u001b[0m\n",
            "\u001b[?25hDownloading fsspec-2025.3.0-py3-none-any.whl (193 kB)\n",
            "\u001b[2K   \u001b[90m━━━━━━━━━━━━━━━━━━━━━━━━━━━━━━━━━━━━━━━━\u001b[0m \u001b[32m193.6/193.6 kB\u001b[0m \u001b[31m10.5 MB/s\u001b[0m eta \u001b[36m0:00:00\u001b[0m\n",
            "\u001b[?25hDownloading huggingface_hub-0.33.1-py3-none-any.whl (515 kB)\n",
            "\u001b[2K   \u001b[90m━━━━━━━━━━━━━━━━━━━━━━━━━━━━━━━━━━━━━━━━\u001b[0m \u001b[32m515.4/515.4 kB\u001b[0m \u001b[31m22.0 MB/s\u001b[0m eta \u001b[36m0:00:00\u001b[0m\n",
            "\u001b[?25hDownloading pfzy-0.3.4-py3-none-any.whl (8.5 kB)\n",
            "Installing collected packages: pfzy, fsspec, InquirerPy, huggingface_hub, datasets\n",
            "  Attempting uninstall: fsspec\n",
            "    Found existing installation: fsspec 2025.3.2\n",
            "    Uninstalling fsspec-2025.3.2:\n",
            "      Successfully uninstalled fsspec-2025.3.2\n",
            "  Attempting uninstall: huggingface_hub\n",
            "    Found existing installation: huggingface-hub 0.33.0\n",
            "    Uninstalling huggingface-hub-0.33.0:\n",
            "      Successfully uninstalled huggingface-hub-0.33.0\n",
            "  Attempting uninstall: datasets\n",
            "    Found existing installation: datasets 2.14.4\n",
            "    Uninstalling datasets-2.14.4:\n",
            "      Successfully uninstalled datasets-2.14.4\n",
            "\u001b[31mERROR: pip's dependency resolver does not currently take into account all the packages that are installed. This behaviour is the source of the following dependency conflicts.\n",
            "gcsfs 2025.3.2 requires fsspec==2025.3.2, but you have fsspec 2025.3.0 which is incompatible.\n",
            "torch 2.6.0+cu124 requires nvidia-cublas-cu12==12.4.5.8; platform_system == \"Linux\" and platform_machine == \"x86_64\", but you have nvidia-cublas-cu12 12.5.3.2 which is incompatible.\n",
            "torch 2.6.0+cu124 requires nvidia-cuda-cupti-cu12==12.4.127; platform_system == \"Linux\" and platform_machine == \"x86_64\", but you have nvidia-cuda-cupti-cu12 12.5.82 which is incompatible.\n",
            "torch 2.6.0+cu124 requires nvidia-cuda-nvrtc-cu12==12.4.127; platform_system == \"Linux\" and platform_machine == \"x86_64\", but you have nvidia-cuda-nvrtc-cu12 12.5.82 which is incompatible.\n",
            "torch 2.6.0+cu124 requires nvidia-cuda-runtime-cu12==12.4.127; platform_system == \"Linux\" and platform_machine == \"x86_64\", but you have nvidia-cuda-runtime-cu12 12.5.82 which is incompatible.\n",
            "torch 2.6.0+cu124 requires nvidia-cudnn-cu12==9.1.0.70; platform_system == \"Linux\" and platform_machine == \"x86_64\", but you have nvidia-cudnn-cu12 9.3.0.75 which is incompatible.\n",
            "torch 2.6.0+cu124 requires nvidia-cufft-cu12==11.2.1.3; platform_system == \"Linux\" and platform_machine == \"x86_64\", but you have nvidia-cufft-cu12 11.2.3.61 which is incompatible.\n",
            "torch 2.6.0+cu124 requires nvidia-curand-cu12==10.3.5.147; platform_system == \"Linux\" and platform_machine == \"x86_64\", but you have nvidia-curand-cu12 10.3.6.82 which is incompatible.\n",
            "torch 2.6.0+cu124 requires nvidia-cusolver-cu12==11.6.1.9; platform_system == \"Linux\" and platform_machine == \"x86_64\", but you have nvidia-cusolver-cu12 11.6.3.83 which is incompatible.\n",
            "torch 2.6.0+cu124 requires nvidia-cusparse-cu12==12.3.1.170; platform_system == \"Linux\" and platform_machine == \"x86_64\", but you have nvidia-cusparse-cu12 12.5.1.3 which is incompatible.\n",
            "torch 2.6.0+cu124 requires nvidia-nvjitlink-cu12==12.4.127; platform_system == \"Linux\" and platform_machine == \"x86_64\", but you have nvidia-nvjitlink-cu12 12.5.82 which is incompatible.\u001b[0m\u001b[31m\n",
            "\u001b[0mSuccessfully installed InquirerPy-0.3.4 datasets-3.6.0 fsspec-2025.3.0 huggingface_hub-0.33.1 pfzy-0.3.4\n"
          ]
        }
      ]
    },
    {
      "cell_type": "code",
      "source": [
        "pip install pytesseract"
      ],
      "metadata": {
        "colab": {
          "base_uri": "https://localhost:8080/"
        },
        "id": "DZUDmUJOuamp",
        "outputId": "d8b50623-9aaa-465f-841d-9ca80ce111c7"
      },
      "execution_count": 2,
      "outputs": [
        {
          "output_type": "stream",
          "name": "stdout",
          "text": [
            "Collecting pytesseract\n",
            "  Downloading pytesseract-0.3.13-py3-none-any.whl.metadata (11 kB)\n",
            "Requirement already satisfied: packaging>=21.3 in /usr/local/lib/python3.11/dist-packages (from pytesseract) (24.2)\n",
            "Requirement already satisfied: Pillow>=8.0.0 in /usr/local/lib/python3.11/dist-packages (from pytesseract) (11.2.1)\n",
            "Downloading pytesseract-0.3.13-py3-none-any.whl (14 kB)\n",
            "Installing collected packages: pytesseract\n",
            "Successfully installed pytesseract-0.3.13\n"
          ]
        }
      ]
    },
    {
      "cell_type": "code",
      "source": [
        "import os\n",
        "from datasets import load_dataset\n",
        "\n",
        "# Set custom cache directory\n",
        "os.environ[\"HF_DATASETS_CACHE\"] = \"/content/hf_datasets\"\n",
        "\n",
        "# Load the dataset\n",
        "data = load_dataset(\"dvgodoy/rvl_cdip_mini\", split=\"train\")\n",
        "\n",
        "# Root directory to save images\n",
        "root_dir = \"docs_data\"\n",
        "os.makedirs(root_dir, exist_ok=True)\n",
        "\n",
        "# Save images by label folder\n",
        "for i, example in enumerate(data):\n",
        "    label = str(example['category'])\n",
        "    img = example['image']\n",
        "\n",
        "    l=[int(1),int(2),int(3),int(4)]\n",
        "    if example['label'] in l:\n",
        "      label_dir = os.path.join(root_dir, label)\n",
        "      os.makedirs(label_dir, exist_ok=True)\n",
        "\n",
        "      img.save(os.path.join(label_dir, f\"img_{i}.png\"))\n",
        "\n",
        "print(\"✅ Images saved by label into folders\")\n"
      ],
      "metadata": {
        "colab": {
          "base_uri": "https://localhost:8080/",
          "height": 388,
          "referenced_widgets": [
            "3e290ecb6b4947eca1d4b22bc78e0dd8",
            "78e8a308ce04473890f592dde97615cc",
            "0c5e13edf3db405fb540ed0047de5c12",
            "b8ff1ad179264211b6e19d5e7f78dd4e",
            "151204a5cf394e449a0e24cc18f5ee1e",
            "4cf68a2b0b834d75b724f637cbf8bc4c",
            "61a8b0806cde4b1e9839d22a844b1281",
            "b8dd321e734344bfbff7c4781281ec78",
            "1bd9571fda2e422a81fc32cc4bc558ec",
            "6af72bf1bc3242108a43c29196aa8497",
            "2fc5d150c77240d59f88bd5fa2609f26",
            "2d631dd52d364b73af91b99d7e2b47fa",
            "b8027d95c4c34867b35a15c910ef99dd",
            "6e75349c157d418793c226e4e0201618",
            "6a1c07f56991495fa981c8c3d7517793",
            "a95b11c0b6df4dffaa1e852efaff881a",
            "c1f9a7c8953641e190f0f1c861578527",
            "e6eab44a29be4b19b5302debb233be25",
            "fa74743d2106474f904db83e655792e0",
            "df5f9cd9a2a14c7f8ec25305da10e023",
            "484507d4ab294160bd97127c1cc42daa",
            "27e1bbc88351422aa0413480d8e971b4",
            "0c2bb57534214c7592d8e05a70608be2",
            "9b392b77e78b4dfb8294a0c90864cf3c",
            "a50c287cf62c481fbfbd3802b0fc9623",
            "bdd47e2a999c463eb25a8f27333b1993",
            "0a38c5c90d4142ab9f3c037ebf2e3400",
            "3127134a71194feaa80a1f80e192493d",
            "fa70883c288d481183d4385b0fa36d7e",
            "73b06047fd7a4eda804e3b73bbcbd497",
            "784696bc521a46db8a6176a8c38a09ce",
            "440c118d0fcd436291e60015da46f045",
            "2f84a46a2a964e02983754bf79c2f0d2",
            "a2702ebb2c2c4252a18710e52db98107",
            "2ae563b312a84aac8f5918b75d45c0d2",
            "6382b3118cb34415a5304e1ac6744881",
            "d3f304a61f18461eba79f659fea036ee",
            "e587b62387e44a2e9701e3085df02521",
            "d7a33014a58e4991b2d12bc20b4fd7eb",
            "c02d5ead14ae472a90a40a2cef9d1d8b",
            "cf0b582216fc4b4ca4a4aa3c4b6ecbac",
            "6929f02a5423477181c26034bda0023f",
            "10e4212098e04118a277b8d02bea1d5a",
            "9ef345247e114c48b20ca39d9dffe17a",
            "ef19cfc47640411f953475e6858e3fbf",
            "7bfa4bc3bfd6448bb8dd8efca580d832",
            "b1715f988dd248af9d6ee62ef31769f7",
            "78f22d296b5248d79a34ac05bebd068b",
            "000408f521d44e66b0d165d8e0a96540",
            "3807ad6a20c64a46bb5f9b6d2a3dc89d",
            "358ab7c3498e4e8ca2e2ffd6c5cf3a57",
            "ea0a1a22d32e4f5889d7ea9d4e954333",
            "23dc62e5163e481ab6455cfba815c279",
            "8fa97e8927d04e0189cb05f31ca87f91",
            "9b7a65fdfa04496b8aaedc1b394f891e",
            "cee58125fba3454bbeac543357eec6af",
            "44f9087f62c14bdfbf69dc8bb45bdba8",
            "9f201e877de94cc2bd3d0011e431d7f6",
            "72c135f81bff4ca6a2c5d1e46aaab4aa",
            "c44187f7d08f44f39146b82b98e63ef3",
            "fbe41f1134bc4713bf3310d0b68cf6bb",
            "daaf8540e52c4489a6d01747afc501ad",
            "d643d9dbfa0442d38736e75738d524da",
            "f3b4b21871dd403fbe1d7e9b62b265ff",
            "cde2f27ba6404d6d918008d6abd8e02d",
            "e913e8c94281492e9460f526d81f98a4",
            "7d9b981a0b5943a382400b8234124ce4",
            "df45b1c27abe43dea6996b303d14918e",
            "dbed22625a8b4190ba81a57fc75d9936",
            "939158c7c46c44778417ca6aea2026d6",
            "d170e890b839417b94be6cfdc0f00678",
            "50cc09f1026e44aeac5adc33cc0d3546",
            "18efa89f130f42caa2acc501adcca1d2",
            "b2320c7ca401428b88e0a8807ce23585",
            "1fbecde51a4543c98fd034baadfa467b",
            "1e98dc3cca3543f2977828c538a4ec25",
            "fe832bd6e615489c988011a43a2b75ba"
          ]
        },
        "id": "fZqeUaxapMad",
        "outputId": "6777e370-2a21-43b1-c60a-3568c2497216"
      },
      "execution_count": 3,
      "outputs": [
        {
          "output_type": "stream",
          "name": "stderr",
          "text": [
            "/usr/local/lib/python3.11/dist-packages/huggingface_hub/utils/_auth.py:94: UserWarning: \n",
            "The secret `HF_TOKEN` does not exist in your Colab secrets.\n",
            "To authenticate with the Hugging Face Hub, create a token in your settings tab (https://huggingface.co/settings/tokens), set it as secret in your Google Colab and restart your session.\n",
            "You will be able to reuse this secret in all of your notebooks.\n",
            "Please note that authentication is recommended but still optional to access public models or datasets.\n",
            "  warnings.warn(\n"
          ]
        },
        {
          "output_type": "display_data",
          "data": {
            "text/plain": [
              "README.md: 0.00B [00:00, ?B/s]"
            ],
            "application/vnd.jupyter.widget-view+json": {
              "version_major": 2,
              "version_minor": 0,
              "model_id": "3e290ecb6b4947eca1d4b22bc78e0dd8"
            }
          },
          "metadata": {}
        },
        {
          "output_type": "display_data",
          "data": {
            "text/plain": [
              "train-00000-of-00001.parquet:   0%|          | 0.00/341M [00:00<?, ?B/s]"
            ],
            "application/vnd.jupyter.widget-view+json": {
              "version_major": 2,
              "version_minor": 0,
              "model_id": "2d631dd52d364b73af91b99d7e2b47fa"
            }
          },
          "metadata": {}
        },
        {
          "output_type": "display_data",
          "data": {
            "text/plain": [
              "validation-00000-of-00001.parquet:   0%|          | 0.00/42.4M [00:00<?, ?B/s]"
            ],
            "application/vnd.jupyter.widget-view+json": {
              "version_major": 2,
              "version_minor": 0,
              "model_id": "0c2bb57534214c7592d8e05a70608be2"
            }
          },
          "metadata": {}
        },
        {
          "output_type": "display_data",
          "data": {
            "text/plain": [
              "test-00000-of-00001.parquet:   0%|          | 0.00/41.5M [00:00<?, ?B/s]"
            ],
            "application/vnd.jupyter.widget-view+json": {
              "version_major": 2,
              "version_minor": 0,
              "model_id": "a2702ebb2c2c4252a18710e52db98107"
            }
          },
          "metadata": {}
        },
        {
          "output_type": "display_data",
          "data": {
            "text/plain": [
              "Generating train split:   0%|          | 0/3200 [00:00<?, ? examples/s]"
            ],
            "application/vnd.jupyter.widget-view+json": {
              "version_major": 2,
              "version_minor": 0,
              "model_id": "ef19cfc47640411f953475e6858e3fbf"
            }
          },
          "metadata": {}
        },
        {
          "output_type": "display_data",
          "data": {
            "text/plain": [
              "Generating validation split:   0%|          | 0/400 [00:00<?, ? examples/s]"
            ],
            "application/vnd.jupyter.widget-view+json": {
              "version_major": 2,
              "version_minor": 0,
              "model_id": "cee58125fba3454bbeac543357eec6af"
            }
          },
          "metadata": {}
        },
        {
          "output_type": "display_data",
          "data": {
            "text/plain": [
              "Generating test split:   0%|          | 0/400 [00:00<?, ? examples/s]"
            ],
            "application/vnd.jupyter.widget-view+json": {
              "version_major": 2,
              "version_minor": 0,
              "model_id": "7d9b981a0b5943a382400b8234124ce4"
            }
          },
          "metadata": {}
        },
        {
          "output_type": "stream",
          "name": "stdout",
          "text": [
            "✅ Images saved by label into folders\n"
          ]
        }
      ]
    },
    {
      "cell_type": "code",
      "source": [
        "\n",
        "dataset_path = \"/content/docs_data\"\n",
        "labels = [label for label in os.listdir(dataset_path)]\n",
        "idx2label = {v: k for v, k in enumerate(labels)}\n",
        "label2idx = {k: v for v, k in enumerate(labels)}\n",
        "label2idx"
      ],
      "metadata": {
        "colab": {
          "base_uri": "https://localhost:8080/"
        },
        "id": "hNREps9BqtBi",
        "outputId": "6bd3a1de-25d7-4d5f-9394-4d7e5099e74d"
      },
      "execution_count": 4,
      "outputs": [
        {
          "output_type": "execute_result",
          "data": {
            "text/plain": [
              "{'handwritten': 0, 'advertisement': 1, 'form': 2, 'email': 3}"
            ]
          },
          "metadata": {},
          "execution_count": 4
        }
      ]
    },
    {
      "cell_type": "code",
      "source": [
        "import pandas as pd\n",
        "images = []\n",
        "labels = []\n",
        "\n",
        "for label_folder, _, file_names in os.walk(dataset_path):\n",
        "  if label_folder != dataset_path:\n",
        "    label = label_folder[19:]\n",
        "    for _, _, image_names in os.walk(label_folder):\n",
        "      relative_image_names = []\n",
        "      for image in image_names:\n",
        "        relative_image_names.append(dataset_path + \"/\" + label + \"/\" + image)\n",
        "      images.extend(relative_image_names)\n",
        "      labels.extend([label] * len (relative_image_names))\n",
        "\n",
        "data = pd.DataFrame.from_dict({'image_path': images, 'label': labels})\n",
        "data.tail()"
      ],
      "metadata": {
        "colab": {
          "base_uri": "https://localhost:8080/",
          "height": 206
        },
        "id": "wzMnt-XPspi9",
        "outputId": "78f6c3c0-8f1e-4683-a6e0-b0a199c55fa7"
      },
      "execution_count": 5,
      "outputs": [
        {
          "output_type": "execute_result",
          "data": {
            "text/plain": [
              "                               image_path  label\n",
              "836  /content/docs_data/email/img_501.png  email\n",
              "837  /content/docs_data/email/img_583.png  email\n",
              "838  /content/docs_data/email/img_443.png  email\n",
              "839  /content/docs_data/email/img_516.png  email\n",
              "840  /content/docs_data/email/img_635.png  email"
            ],
            "text/html": [
              "\n",
              "  <div id=\"df-438b2853-ddbd-4a4c-87cf-b472e2e78c97\" class=\"colab-df-container\">\n",
              "    <div>\n",
              "<style scoped>\n",
              "    .dataframe tbody tr th:only-of-type {\n",
              "        vertical-align: middle;\n",
              "    }\n",
              "\n",
              "    .dataframe tbody tr th {\n",
              "        vertical-align: top;\n",
              "    }\n",
              "\n",
              "    .dataframe thead th {\n",
              "        text-align: right;\n",
              "    }\n",
              "</style>\n",
              "<table border=\"1\" class=\"dataframe\">\n",
              "  <thead>\n",
              "    <tr style=\"text-align: right;\">\n",
              "      <th></th>\n",
              "      <th>image_path</th>\n",
              "      <th>label</th>\n",
              "    </tr>\n",
              "  </thead>\n",
              "  <tbody>\n",
              "    <tr>\n",
              "      <th>836</th>\n",
              "      <td>/content/docs_data/email/img_501.png</td>\n",
              "      <td>email</td>\n",
              "    </tr>\n",
              "    <tr>\n",
              "      <th>837</th>\n",
              "      <td>/content/docs_data/email/img_583.png</td>\n",
              "      <td>email</td>\n",
              "    </tr>\n",
              "    <tr>\n",
              "      <th>838</th>\n",
              "      <td>/content/docs_data/email/img_443.png</td>\n",
              "      <td>email</td>\n",
              "    </tr>\n",
              "    <tr>\n",
              "      <th>839</th>\n",
              "      <td>/content/docs_data/email/img_516.png</td>\n",
              "      <td>email</td>\n",
              "    </tr>\n",
              "    <tr>\n",
              "      <th>840</th>\n",
              "      <td>/content/docs_data/email/img_635.png</td>\n",
              "      <td>email</td>\n",
              "    </tr>\n",
              "  </tbody>\n",
              "</table>\n",
              "</div>\n",
              "    <div class=\"colab-df-buttons\">\n",
              "\n",
              "  <div class=\"colab-df-container\">\n",
              "    <button class=\"colab-df-convert\" onclick=\"convertToInteractive('df-438b2853-ddbd-4a4c-87cf-b472e2e78c97')\"\n",
              "            title=\"Convert this dataframe to an interactive table.\"\n",
              "            style=\"display:none;\">\n",
              "\n",
              "  <svg xmlns=\"http://www.w3.org/2000/svg\" height=\"24px\" viewBox=\"0 -960 960 960\">\n",
              "    <path d=\"M120-120v-720h720v720H120Zm60-500h600v-160H180v160Zm220 220h160v-160H400v160Zm0 220h160v-160H400v160ZM180-400h160v-160H180v160Zm440 0h160v-160H620v160ZM180-180h160v-160H180v160Zm440 0h160v-160H620v160Z\"/>\n",
              "  </svg>\n",
              "    </button>\n",
              "\n",
              "  <style>\n",
              "    .colab-df-container {\n",
              "      display:flex;\n",
              "      gap: 12px;\n",
              "    }\n",
              "\n",
              "    .colab-df-convert {\n",
              "      background-color: #E8F0FE;\n",
              "      border: none;\n",
              "      border-radius: 50%;\n",
              "      cursor: pointer;\n",
              "      display: none;\n",
              "      fill: #1967D2;\n",
              "      height: 32px;\n",
              "      padding: 0 0 0 0;\n",
              "      width: 32px;\n",
              "    }\n",
              "\n",
              "    .colab-df-convert:hover {\n",
              "      background-color: #E2EBFA;\n",
              "      box-shadow: 0px 1px 2px rgba(60, 64, 67, 0.3), 0px 1px 3px 1px rgba(60, 64, 67, 0.15);\n",
              "      fill: #174EA6;\n",
              "    }\n",
              "\n",
              "    .colab-df-buttons div {\n",
              "      margin-bottom: 4px;\n",
              "    }\n",
              "\n",
              "    [theme=dark] .colab-df-convert {\n",
              "      background-color: #3B4455;\n",
              "      fill: #D2E3FC;\n",
              "    }\n",
              "\n",
              "    [theme=dark] .colab-df-convert:hover {\n",
              "      background-color: #434B5C;\n",
              "      box-shadow: 0px 1px 3px 1px rgba(0, 0, 0, 0.15);\n",
              "      filter: drop-shadow(0px 1px 2px rgba(0, 0, 0, 0.3));\n",
              "      fill: #FFFFFF;\n",
              "    }\n",
              "  </style>\n",
              "\n",
              "    <script>\n",
              "      const buttonEl =\n",
              "        document.querySelector('#df-438b2853-ddbd-4a4c-87cf-b472e2e78c97 button.colab-df-convert');\n",
              "      buttonEl.style.display =\n",
              "        google.colab.kernel.accessAllowed ? 'block' : 'none';\n",
              "\n",
              "      async function convertToInteractive(key) {\n",
              "        const element = document.querySelector('#df-438b2853-ddbd-4a4c-87cf-b472e2e78c97');\n",
              "        const dataTable =\n",
              "          await google.colab.kernel.invokeFunction('convertToInteractive',\n",
              "                                                    [key], {});\n",
              "        if (!dataTable) return;\n",
              "\n",
              "        const docLinkHtml = 'Like what you see? Visit the ' +\n",
              "          '<a target=\"_blank\" href=https://colab.research.google.com/notebooks/data_table.ipynb>data table notebook</a>'\n",
              "          + ' to learn more about interactive tables.';\n",
              "        element.innerHTML = '';\n",
              "        dataTable['output_type'] = 'display_data';\n",
              "        await google.colab.output.renderOutput(dataTable, element);\n",
              "        const docLink = document.createElement('div');\n",
              "        docLink.innerHTML = docLinkHtml;\n",
              "        element.appendChild(docLink);\n",
              "      }\n",
              "    </script>\n",
              "  </div>\n",
              "\n",
              "\n",
              "    <div id=\"df-da4d5063-cab9-4cc1-9109-dd2fdab54f82\">\n",
              "      <button class=\"colab-df-quickchart\" onclick=\"quickchart('df-da4d5063-cab9-4cc1-9109-dd2fdab54f82')\"\n",
              "                title=\"Suggest charts\"\n",
              "                style=\"display:none;\">\n",
              "\n",
              "<svg xmlns=\"http://www.w3.org/2000/svg\" height=\"24px\"viewBox=\"0 0 24 24\"\n",
              "     width=\"24px\">\n",
              "    <g>\n",
              "        <path d=\"M19 3H5c-1.1 0-2 .9-2 2v14c0 1.1.9 2 2 2h14c1.1 0 2-.9 2-2V5c0-1.1-.9-2-2-2zM9 17H7v-7h2v7zm4 0h-2V7h2v10zm4 0h-2v-4h2v4z\"/>\n",
              "    </g>\n",
              "</svg>\n",
              "      </button>\n",
              "\n",
              "<style>\n",
              "  .colab-df-quickchart {\n",
              "      --bg-color: #E8F0FE;\n",
              "      --fill-color: #1967D2;\n",
              "      --hover-bg-color: #E2EBFA;\n",
              "      --hover-fill-color: #174EA6;\n",
              "      --disabled-fill-color: #AAA;\n",
              "      --disabled-bg-color: #DDD;\n",
              "  }\n",
              "\n",
              "  [theme=dark] .colab-df-quickchart {\n",
              "      --bg-color: #3B4455;\n",
              "      --fill-color: #D2E3FC;\n",
              "      --hover-bg-color: #434B5C;\n",
              "      --hover-fill-color: #FFFFFF;\n",
              "      --disabled-bg-color: #3B4455;\n",
              "      --disabled-fill-color: #666;\n",
              "  }\n",
              "\n",
              "  .colab-df-quickchart {\n",
              "    background-color: var(--bg-color);\n",
              "    border: none;\n",
              "    border-radius: 50%;\n",
              "    cursor: pointer;\n",
              "    display: none;\n",
              "    fill: var(--fill-color);\n",
              "    height: 32px;\n",
              "    padding: 0;\n",
              "    width: 32px;\n",
              "  }\n",
              "\n",
              "  .colab-df-quickchart:hover {\n",
              "    background-color: var(--hover-bg-color);\n",
              "    box-shadow: 0 1px 2px rgba(60, 64, 67, 0.3), 0 1px 3px 1px rgba(60, 64, 67, 0.15);\n",
              "    fill: var(--button-hover-fill-color);\n",
              "  }\n",
              "\n",
              "  .colab-df-quickchart-complete:disabled,\n",
              "  .colab-df-quickchart-complete:disabled:hover {\n",
              "    background-color: var(--disabled-bg-color);\n",
              "    fill: var(--disabled-fill-color);\n",
              "    box-shadow: none;\n",
              "  }\n",
              "\n",
              "  .colab-df-spinner {\n",
              "    border: 2px solid var(--fill-color);\n",
              "    border-color: transparent;\n",
              "    border-bottom-color: var(--fill-color);\n",
              "    animation:\n",
              "      spin 1s steps(1) infinite;\n",
              "  }\n",
              "\n",
              "  @keyframes spin {\n",
              "    0% {\n",
              "      border-color: transparent;\n",
              "      border-bottom-color: var(--fill-color);\n",
              "      border-left-color: var(--fill-color);\n",
              "    }\n",
              "    20% {\n",
              "      border-color: transparent;\n",
              "      border-left-color: var(--fill-color);\n",
              "      border-top-color: var(--fill-color);\n",
              "    }\n",
              "    30% {\n",
              "      border-color: transparent;\n",
              "      border-left-color: var(--fill-color);\n",
              "      border-top-color: var(--fill-color);\n",
              "      border-right-color: var(--fill-color);\n",
              "    }\n",
              "    40% {\n",
              "      border-color: transparent;\n",
              "      border-right-color: var(--fill-color);\n",
              "      border-top-color: var(--fill-color);\n",
              "    }\n",
              "    60% {\n",
              "      border-color: transparent;\n",
              "      border-right-color: var(--fill-color);\n",
              "    }\n",
              "    80% {\n",
              "      border-color: transparent;\n",
              "      border-right-color: var(--fill-color);\n",
              "      border-bottom-color: var(--fill-color);\n",
              "    }\n",
              "    90% {\n",
              "      border-color: transparent;\n",
              "      border-bottom-color: var(--fill-color);\n",
              "    }\n",
              "  }\n",
              "</style>\n",
              "\n",
              "      <script>\n",
              "        async function quickchart(key) {\n",
              "          const quickchartButtonEl =\n",
              "            document.querySelector('#' + key + ' button');\n",
              "          quickchartButtonEl.disabled = true;  // To prevent multiple clicks.\n",
              "          quickchartButtonEl.classList.add('colab-df-spinner');\n",
              "          try {\n",
              "            const charts = await google.colab.kernel.invokeFunction(\n",
              "                'suggestCharts', [key], {});\n",
              "          } catch (error) {\n",
              "            console.error('Error during call to suggestCharts:', error);\n",
              "          }\n",
              "          quickchartButtonEl.classList.remove('colab-df-spinner');\n",
              "          quickchartButtonEl.classList.add('colab-df-quickchart-complete');\n",
              "        }\n",
              "        (() => {\n",
              "          let quickchartButtonEl =\n",
              "            document.querySelector('#df-da4d5063-cab9-4cc1-9109-dd2fdab54f82 button');\n",
              "          quickchartButtonEl.style.display =\n",
              "            google.colab.kernel.accessAllowed ? 'block' : 'none';\n",
              "        })();\n",
              "      </script>\n",
              "    </div>\n",
              "\n",
              "    </div>\n",
              "  </div>\n"
            ],
            "application/vnd.google.colaboratory.intrinsic+json": {
              "type": "dataframe",
              "summary": "{\n  \"name\": \"data\",\n  \"rows\": 5,\n  \"fields\": [\n    {\n      \"column\": \"image_path\",\n      \"properties\": {\n        \"dtype\": \"string\",\n        \"num_unique_values\": 5,\n        \"samples\": [\n          \"/content/docs_data/email/img_583.png\",\n          \"/content/docs_data/email/img_635.png\",\n          \"/content/docs_data/email/img_443.png\"\n        ],\n        \"semantic_type\": \"\",\n        \"description\": \"\"\n      }\n    },\n    {\n      \"column\": \"label\",\n      \"properties\": {\n        \"dtype\": \"category\",\n        \"num_unique_values\": 1,\n        \"samples\": [\n          \"email\"\n        ],\n        \"semantic_type\": \"\",\n        \"description\": \"\"\n      }\n    }\n  ]\n}"
            }
          },
          "metadata": {},
          "execution_count": 5
        }
      ]
    },
    {
      "cell_type": "code",
      "source": [
        "from datasets import Dataset\n",
        "import pytesseract\n",
        "import numpy as np\n",
        "from PIL import Image, ImageDraw, ImageFont\n",
        "\n",
        "def normalize_box(box, width, height):\n",
        "     return [\n",
        "         int(1000 * (box[0] / width)),\n",
        "         int(1000 * (box[1] / height)),\n",
        "         int(1000 * (box[2] / width)),\n",
        "         int(1000 * (box[3] / height)),\n",
        "     ]\n",
        "\n",
        "def apply_ocr(example):\n",
        "        # get the image\n",
        "        image = Image.open(example['image_path'])\n",
        "\n",
        "        width, height = image.size\n",
        "\n",
        "        # apply ocr to the image\n",
        "        ocr_df = pytesseract.image_to_data(image, output_type='data.frame')\n",
        "        float_cols = ocr_df.select_dtypes('float').columns\n",
        "        ocr_df = ocr_df.dropna().reset_index(drop=True)\n",
        "        ocr_df[float_cols] = ocr_df[float_cols].round(0).astype(int)\n",
        "        ocr_df = ocr_df.replace(r'^\\s*$', np.nan, regex=True)\n",
        "        ocr_df = ocr_df.dropna().reset_index(drop=True)\n",
        "\n",
        "        # get the words and actual (unnormalized) bounding boxes\n",
        "        #words = [word for word in ocr_df.text if str(word) != 'nan'])\n",
        "        words = list(ocr_df.text)\n",
        "        words = [str(w) for w in words]\n",
        "        coordinates = ocr_df[['left', 'top', 'width', 'height']]\n",
        "        actual_boxes = []\n",
        "        for idx, row in coordinates.iterrows():\n",
        "            x, y, w, h = tuple(row) # the row comes in (left, top, width, height) format\n",
        "            actual_box = [x, y, x+w, y+h] # we turn it into (left, top, left+width, top+height) to get the actual box\n",
        "            actual_boxes.append(actual_box)\n",
        "\n",
        "        # normalize the bounding boxes\n",
        "        boxes = []\n",
        "        for box in actual_boxes:\n",
        "            boxes.append(normalize_box(box, width, height))\n",
        "\n",
        "        # add as extra columns\n",
        "        assert len(words) == len(boxes)\n",
        "        example['words'] = words\n",
        "        example['bbox'] = boxes\n",
        "        return example\n",
        "\n",
        "dataset = Dataset.from_pandas(data)\n",
        "updated_dataset = dataset.map(apply_ocr)"
      ],
      "metadata": {
        "colab": {
          "base_uri": "https://localhost:8080/",
          "height": 977,
          "referenced_widgets": [
            "5628a6e681ff4571bad6af5caaa3daf4",
            "9d8e3df57d724194aa5da72f81929ecb",
            "366104fe239d4d22a468fa9dc2947265",
            "581c41a2fa4945918534f320217ed242",
            "7ee59b14edcc439d8cd333412e538ae6",
            "09891ea16ed54f3390b9ec37ec34ddc9",
            "da47fe1b002d4afa8484e925f2572031",
            "0d13ef7f3c21456cb68c1c5d04cc84d3",
            "09a2c09f56264a3e958f44f79cc99b2b",
            "7a16a66043b64eebb2d55a9e35a2db6e",
            "2059810e5ec54a0ab48a346f1b3a058c"
          ]
        },
        "id": "Twfb3-cFtoz_",
        "outputId": "acf06ea0-8ed6-42a9-fb4c-a3e27200a931"
      },
      "execution_count": null,
      "outputs": [
        {
          "output_type": "display_data",
          "data": {
            "text/plain": [
              "Map:   0%|          | 0/841 [00:00<?, ? examples/s]"
            ],
            "application/vnd.jupyter.widget-view+json": {
              "version_major": 2,
              "version_minor": 0,
              "model_id": "5628a6e681ff4571bad6af5caaa3daf4"
            }
          },
          "metadata": {}
        },
        {
          "output_type": "stream",
          "name": "stderr",
          "text": [
            "/tmp/ipython-input-6-63943841.py:25: FutureWarning: Downcasting behavior in `replace` is deprecated and will be removed in a future version. To retain the old behavior, explicitly call `result.infer_objects(copy=False)`. To opt-in to the future behavior, set `pd.set_option('future.no_silent_downcasting', True)`\n",
            "  ocr_df = ocr_df.replace(r'^\\s*$', np.nan, regex=True)\n",
            "/tmp/ipython-input-6-63943841.py:25: FutureWarning: Downcasting behavior in `replace` is deprecated and will be removed in a future version. To retain the old behavior, explicitly call `result.infer_objects(copy=False)`. To opt-in to the future behavior, set `pd.set_option('future.no_silent_downcasting', True)`\n",
            "  ocr_df = ocr_df.replace(r'^\\s*$', np.nan, regex=True)\n",
            "/tmp/ipython-input-6-63943841.py:25: FutureWarning: Downcasting behavior in `replace` is deprecated and will be removed in a future version. To retain the old behavior, explicitly call `result.infer_objects(copy=False)`. To opt-in to the future behavior, set `pd.set_option('future.no_silent_downcasting', True)`\n",
            "  ocr_df = ocr_df.replace(r'^\\s*$', np.nan, regex=True)\n",
            "/tmp/ipython-input-6-63943841.py:25: FutureWarning: Downcasting behavior in `replace` is deprecated and will be removed in a future version. To retain the old behavior, explicitly call `result.infer_objects(copy=False)`. To opt-in to the future behavior, set `pd.set_option('future.no_silent_downcasting', True)`\n",
            "  ocr_df = ocr_df.replace(r'^\\s*$', np.nan, regex=True)\n",
            "/tmp/ipython-input-6-63943841.py:25: FutureWarning: Downcasting behavior in `replace` is deprecated and will be removed in a future version. To retain the old behavior, explicitly call `result.infer_objects(copy=False)`. To opt-in to the future behavior, set `pd.set_option('future.no_silent_downcasting', True)`\n",
            "  ocr_df = ocr_df.replace(r'^\\s*$', np.nan, regex=True)\n",
            "/tmp/ipython-input-6-63943841.py:25: FutureWarning: Downcasting behavior in `replace` is deprecated and will be removed in a future version. To retain the old behavior, explicitly call `result.infer_objects(copy=False)`. To opt-in to the future behavior, set `pd.set_option('future.no_silent_downcasting', True)`\n",
            "  ocr_df = ocr_df.replace(r'^\\s*$', np.nan, regex=True)\n",
            "/tmp/ipython-input-6-63943841.py:25: FutureWarning: Downcasting behavior in `replace` is deprecated and will be removed in a future version. To retain the old behavior, explicitly call `result.infer_objects(copy=False)`. To opt-in to the future behavior, set `pd.set_option('future.no_silent_downcasting', True)`\n",
            "  ocr_df = ocr_df.replace(r'^\\s*$', np.nan, regex=True)\n",
            "/tmp/ipython-input-6-63943841.py:25: FutureWarning: Downcasting behavior in `replace` is deprecated and will be removed in a future version. To retain the old behavior, explicitly call `result.infer_objects(copy=False)`. To opt-in to the future behavior, set `pd.set_option('future.no_silent_downcasting', True)`\n",
            "  ocr_df = ocr_df.replace(r'^\\s*$', np.nan, regex=True)\n",
            "/tmp/ipython-input-6-63943841.py:25: FutureWarning: Downcasting behavior in `replace` is deprecated and will be removed in a future version. To retain the old behavior, explicitly call `result.infer_objects(copy=False)`. To opt-in to the future behavior, set `pd.set_option('future.no_silent_downcasting', True)`\n",
            "  ocr_df = ocr_df.replace(r'^\\s*$', np.nan, regex=True)\n",
            "/tmp/ipython-input-6-63943841.py:25: FutureWarning: Downcasting behavior in `replace` is deprecated and will be removed in a future version. To retain the old behavior, explicitly call `result.infer_objects(copy=False)`. To opt-in to the future behavior, set `pd.set_option('future.no_silent_downcasting', True)`\n",
            "  ocr_df = ocr_df.replace(r'^\\s*$', np.nan, regex=True)\n",
            "/tmp/ipython-input-6-63943841.py:25: FutureWarning: Downcasting behavior in `replace` is deprecated and will be removed in a future version. To retain the old behavior, explicitly call `result.infer_objects(copy=False)`. To opt-in to the future behavior, set `pd.set_option('future.no_silent_downcasting', True)`\n",
            "  ocr_df = ocr_df.replace(r'^\\s*$', np.nan, regex=True)\n",
            "/tmp/ipython-input-6-63943841.py:25: FutureWarning: Downcasting behavior in `replace` is deprecated and will be removed in a future version. To retain the old behavior, explicitly call `result.infer_objects(copy=False)`. To opt-in to the future behavior, set `pd.set_option('future.no_silent_downcasting', True)`\n",
            "  ocr_df = ocr_df.replace(r'^\\s*$', np.nan, regex=True)\n",
            "/tmp/ipython-input-6-63943841.py:25: FutureWarning: Downcasting behavior in `replace` is deprecated and will be removed in a future version. To retain the old behavior, explicitly call `result.infer_objects(copy=False)`. To opt-in to the future behavior, set `pd.set_option('future.no_silent_downcasting', True)`\n",
            "  ocr_df = ocr_df.replace(r'^\\s*$', np.nan, regex=True)\n",
            "/tmp/ipython-input-6-63943841.py:25: FutureWarning: Downcasting behavior in `replace` is deprecated and will be removed in a future version. To retain the old behavior, explicitly call `result.infer_objects(copy=False)`. To opt-in to the future behavior, set `pd.set_option('future.no_silent_downcasting', True)`\n",
            "  ocr_df = ocr_df.replace(r'^\\s*$', np.nan, regex=True)\n",
            "/tmp/ipython-input-6-63943841.py:25: FutureWarning: Downcasting behavior in `replace` is deprecated and will be removed in a future version. To retain the old behavior, explicitly call `result.infer_objects(copy=False)`. To opt-in to the future behavior, set `pd.set_option('future.no_silent_downcasting', True)`\n",
            "  ocr_df = ocr_df.replace(r'^\\s*$', np.nan, regex=True)\n",
            "/tmp/ipython-input-6-63943841.py:25: FutureWarning: Downcasting behavior in `replace` is deprecated and will be removed in a future version. To retain the old behavior, explicitly call `result.infer_objects(copy=False)`. To opt-in to the future behavior, set `pd.set_option('future.no_silent_downcasting', True)`\n",
            "  ocr_df = ocr_df.replace(r'^\\s*$', np.nan, regex=True)\n",
            "/tmp/ipython-input-6-63943841.py:25: FutureWarning: Downcasting behavior in `replace` is deprecated and will be removed in a future version. To retain the old behavior, explicitly call `result.infer_objects(copy=False)`. To opt-in to the future behavior, set `pd.set_option('future.no_silent_downcasting', True)`\n",
            "  ocr_df = ocr_df.replace(r'^\\s*$', np.nan, regex=True)\n",
            "/tmp/ipython-input-6-63943841.py:25: FutureWarning: Downcasting behavior in `replace` is deprecated and will be removed in a future version. To retain the old behavior, explicitly call `result.infer_objects(copy=False)`. To opt-in to the future behavior, set `pd.set_option('future.no_silent_downcasting', True)`\n",
            "  ocr_df = ocr_df.replace(r'^\\s*$', np.nan, regex=True)\n",
            "/tmp/ipython-input-6-63943841.py:25: FutureWarning: Downcasting behavior in `replace` is deprecated and will be removed in a future version. To retain the old behavior, explicitly call `result.infer_objects(copy=False)`. To opt-in to the future behavior, set `pd.set_option('future.no_silent_downcasting', True)`\n",
            "  ocr_df = ocr_df.replace(r'^\\s*$', np.nan, regex=True)\n",
            "/tmp/ipython-input-6-63943841.py:25: FutureWarning: Downcasting behavior in `replace` is deprecated and will be removed in a future version. To retain the old behavior, explicitly call `result.infer_objects(copy=False)`. To opt-in to the future behavior, set `pd.set_option('future.no_silent_downcasting', True)`\n",
            "  ocr_df = ocr_df.replace(r'^\\s*$', np.nan, regex=True)\n",
            "/tmp/ipython-input-6-63943841.py:25: FutureWarning: Downcasting behavior in `replace` is deprecated and will be removed in a future version. To retain the old behavior, explicitly call `result.infer_objects(copy=False)`. To opt-in to the future behavior, set `pd.set_option('future.no_silent_downcasting', True)`\n",
            "  ocr_df = ocr_df.replace(r'^\\s*$', np.nan, regex=True)\n",
            "/tmp/ipython-input-6-63943841.py:25: FutureWarning: Downcasting behavior in `replace` is deprecated and will be removed in a future version. To retain the old behavior, explicitly call `result.infer_objects(copy=False)`. To opt-in to the future behavior, set `pd.set_option('future.no_silent_downcasting', True)`\n",
            "  ocr_df = ocr_df.replace(r'^\\s*$', np.nan, regex=True)\n",
            "/tmp/ipython-input-6-63943841.py:25: FutureWarning: Downcasting behavior in `replace` is deprecated and will be removed in a future version. To retain the old behavior, explicitly call `result.infer_objects(copy=False)`. To opt-in to the future behavior, set `pd.set_option('future.no_silent_downcasting', True)`\n",
            "  ocr_df = ocr_df.replace(r'^\\s*$', np.nan, regex=True)\n",
            "/tmp/ipython-input-6-63943841.py:25: FutureWarning: Downcasting behavior in `replace` is deprecated and will be removed in a future version. To retain the old behavior, explicitly call `result.infer_objects(copy=False)`. To opt-in to the future behavior, set `pd.set_option('future.no_silent_downcasting', True)`\n",
            "  ocr_df = ocr_df.replace(r'^\\s*$', np.nan, regex=True)\n",
            "/tmp/ipython-input-6-63943841.py:25: FutureWarning: Downcasting behavior in `replace` is deprecated and will be removed in a future version. To retain the old behavior, explicitly call `result.infer_objects(copy=False)`. To opt-in to the future behavior, set `pd.set_option('future.no_silent_downcasting', True)`\n",
            "  ocr_df = ocr_df.replace(r'^\\s*$', np.nan, regex=True)\n"
          ]
        }
      ]
    },
    {
      "cell_type": "code",
      "source": [
        "pip install transformers"
      ],
      "metadata": {
        "id": "Z1dCzDb_7TI2"
      },
      "execution_count": null,
      "outputs": []
    },
    {
      "cell_type": "code",
      "source": [
        "pip install torch torchvision"
      ],
      "metadata": {
        "id": "1ojxf9Sk7ty9"
      },
      "execution_count": null,
      "outputs": []
    },
    {
      "cell_type": "code",
      "source": [
        "from transformers import LayoutLMTokenizer\n",
        "import torch\n",
        "\n",
        "tokenizer = LayoutLMTokenizer.from_pretrained(\"microsoft/layoutlm-base-uncased\")\n",
        "\n",
        "def encode_example(example, max_seq_length=512, pad_token_box=[0, 0, 0, 0]):\n",
        "  words = example['words']\n",
        "  normalized_word_boxes = example['bbox']\n",
        "\n",
        "  assert len(words) == len(normalized_word_boxes)\n",
        "\n",
        "  token_boxes = []\n",
        "  for word, box in zip(words, normalized_word_boxes):\n",
        "      word_tokens = tokenizer.tokenize(word)\n",
        "      token_boxes.extend([box] * len(word_tokens))\n",
        "\n",
        "  # Truncation of token_boxes\n",
        "  special_tokens_count = 2\n",
        "  if len(token_boxes) > max_seq_length - special_tokens_count:\n",
        "      token_boxes = token_boxes[: (max_seq_length - special_tokens_count)]\n",
        "\n",
        "  # add bounding boxes of cls + sep tokens\n",
        "  token_boxes = [[0, 0, 0, 0]] + token_boxes + [[1000, 1000, 1000, 1000]]\n",
        "\n",
        "  encoding = tokenizer(' '.join(words), padding='max_length', truncation=True)\n",
        "  # Padding of token_boxes up the bounding boxes to the sequence length.\n",
        "  input_ids = tokenizer(' '.join(words), truncation=True)[\"input_ids\"]\n",
        "  padding_length = max_seq_length - len(input_ids)\n",
        "  token_boxes += [pad_token_box] * padding_length\n",
        "  encoding['bbox'] = token_boxes\n",
        "  encoding['label'] = label2idx[example['label']]\n",
        "\n",
        "  assert len(encoding['input_ids']) == max_seq_length\n",
        "  assert len(encoding['attention_mask']) == max_seq_length\n",
        "  assert len(encoding['token_type_ids']) == max_seq_length\n",
        "  assert len(encoding['bbox']) == max_seq_length\n",
        "\n",
        "  return encoding"
      ],
      "metadata": {
        "id": "bU-fCT8z7kkL"
      },
      "execution_count": null,
      "outputs": []
    },
    {
      "cell_type": "code",
      "source": [
        "from datasets import Features, Sequence, ClassLabel, Value, Array2D\n",
        "# we need to define the features ourselves as the bbox of LayoutLM are an extra feature\n",
        "features = Features({\n",
        "    'input_ids': Sequence(feature=Value(dtype='int64')),\n",
        "    'bbox': Array2D(dtype=\"int64\", shape=(512, 4)),\n",
        "    'attention_mask': Sequence(Value(dtype='int64')),\n",
        "    'token_type_ids': Sequence(Value(dtype='int64')),\n",
        "    'label': ClassLabel(names=['advertisement','email','form','handwritten']),\n",
        "    'image_path': Value(dtype='string'),\n",
        "    'words': Sequence(feature=Value(dtype='string')),\n",
        "})\n",
        "\n",
        "encoded_dataset = updated_dataset.map(lambda example: encode_example(example),\n",
        "                                      features=features)"
      ],
      "metadata": {
        "id": "RNpMq67078KJ"
      },
      "execution_count": null,
      "outputs": []
    },
    {
      "cell_type": "code",
      "source": [
        "encoded_dataset.set_format(type='torch', columns=['input_ids', 'bbox', 'attention_mask', 'token_type_ids', 'label'])\n",
        "dataloader = torch.utils.data.DataLoader(encoded_dataset, batch_size=1, shuffle=True)\n",
        "batch = next(iter(dataloader))"
      ],
      "metadata": {
        "id": "6XXuwuX98AaD"
      },
      "execution_count": null,
      "outputs": []
    },
    {
      "cell_type": "code",
      "source": [
        "from transformers import LayoutLMForSequenceClassification\n",
        "import torch\n",
        "from transformers import logging\n",
        "\n",
        "logging.set_verbosity_warning()\n",
        "\n",
        "device = torch.device(\"cuda\" if torch.cuda.is_available() else \"cpu\")\n",
        "\n",
        "model = LayoutLMForSequenceClassification.from_pretrained(\"microsoft/layoutlm-base-uncased\", num_labels=len(label2idx))\n",
        "model.to(device)"
      ],
      "metadata": {
        "id": "5lxJFh0-8FNJ"
      },
      "execution_count": null,
      "outputs": []
    },
    {
      "cell_type": "code",
      "source": [
        "from torch.optim import AdamW\n",
        "import torch\n",
        "\n",
        "optimizer = AdamW(model.parameters(), lr=4e-5)\n",
        "\n",
        "global_step = 0\n",
        "num_train_epochs = 15\n",
        "t_total = len(dataloader) * num_train_epochs # total number of training steps\n",
        "\n",
        "#put the model in training mode\n",
        "model.train()\n",
        "for epoch in range(num_train_epochs):\n",
        "  print(\"Epoch:\", epoch)\n",
        "  running_loss = 0.0\n",
        "  correct = 0\n",
        "  for batch in dataloader:\n",
        "      input_ids = batch[\"input_ids\"].to(device)\n",
        "      bbox = batch[\"bbox\"].to(device)\n",
        "      attention_mask = batch[\"attention_mask\"].to(device)\n",
        "      token_type_ids = batch[\"token_type_ids\"].to(device)\n",
        "      labels = batch[\"label\"].to(device)\n",
        "\n",
        "      # forward pass\n",
        "      outputs = model(input_ids=input_ids, bbox=bbox, attention_mask=attention_mask, token_type_ids=token_type_ids,\n",
        "                      labels=labels)\n",
        "      loss = outputs.loss\n",
        "\n",
        "      running_loss += loss.item()\n",
        "      predictions = outputs.logits.argmax(-1)\n",
        "      correct += (predictions == labels).float().sum()\n",
        "\n",
        "      # backward pass to get the gradients\n",
        "      loss.backward()\n",
        "\n",
        "      # update\n",
        "      optimizer.step()\n",
        "      optimizer.zero_grad()\n",
        "      global_step += 1\n",
        "\n",
        "  print(\"Loss:\", running_loss / batch[\"input_ids\"].shape[0])\n",
        "  accuracy = 100 * correct / len(data)\n",
        "  print(\"Training accuracy:\", accuracy.item())"
      ],
      "metadata": {
        "id": "lci3Eim28PA3"
      },
      "execution_count": null,
      "outputs": []
    }
  ]
}